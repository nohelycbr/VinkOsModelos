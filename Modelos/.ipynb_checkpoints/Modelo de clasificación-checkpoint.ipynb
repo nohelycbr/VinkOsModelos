{
 "cells": [
  {
   "cell_type": "markdown",
   "metadata": {},
   "source": [
    "## Análisis de los archivos\n",
    "\n",
    "### Bibliotecas"
   ]
  },
  {
   "cell_type": "code",
   "execution_count": 80,
   "metadata": {},
   "outputs": [],
   "source": [
    "import pandas as pd\n",
    "import numpy as np\n",
    "import matplotlib.pyplot as plt\n",
    "import seaborn as sn\n",
    "from sklearn.model_selection import train_test_split\n",
    "from sklearn.linear_model import LogisticRegression\n",
    "from sklearn.ensemble import RandomForestClassifier\n",
    "from sklearn.naive_bayes import GaussianNB\n",
    "from sklearn.neighbors import KNeighborsClassifier\n",
    "from sklearn import svm\n",
    "from joblib import dump, load\n",
    "from sklearn.metrics import confusion_matrix, accuracy_score,r2_score,roc_curve,roc_auc_score"
   ]
  },
  {
   "cell_type": "code",
   "execution_count": 2,
   "metadata": {},
   "outputs": [],
   "source": [
    "info2 = pd.read_csv('../data/info_02.csv')"
   ]
  },
  {
   "cell_type": "code",
   "execution_count": 3,
   "metadata": {},
   "outputs": [
    {
     "data": {
      "text/html": [
       "<div>\n",
       "<style scoped>\n",
       "    .dataframe tbody tr th:only-of-type {\n",
       "        vertical-align: middle;\n",
       "    }\n",
       "\n",
       "    .dataframe tbody tr th {\n",
       "        vertical-align: top;\n",
       "    }\n",
       "\n",
       "    .dataframe thead th {\n",
       "        text-align: right;\n",
       "    }\n",
       "</style>\n",
       "<table border=\"1\" class=\"dataframe\">\n",
       "  <thead>\n",
       "    <tr style=\"text-align: right;\">\n",
       "      <th></th>\n",
       "      <th>id</th>\n",
       "      <th>id2</th>\n",
       "      <th>v1</th>\n",
       "      <th>c1</th>\n",
       "      <th>v2</th>\n",
       "    </tr>\n",
       "  </thead>\n",
       "  <tbody>\n",
       "    <tr>\n",
       "      <th>count</th>\n",
       "      <td>17286.000000</td>\n",
       "      <td>17286.000000</td>\n",
       "      <td>17286.000000</td>\n",
       "      <td>17286.000000</td>\n",
       "      <td>17286.000000</td>\n",
       "    </tr>\n",
       "    <tr>\n",
       "      <th>mean</th>\n",
       "      <td>4075.651047</td>\n",
       "      <td>4075.651047</td>\n",
       "      <td>119.141542</td>\n",
       "      <td>0.211674</td>\n",
       "      <td>20.617257</td>\n",
       "    </tr>\n",
       "    <tr>\n",
       "      <th>std</th>\n",
       "      <td>2347.052912</td>\n",
       "      <td>2347.052912</td>\n",
       "      <td>194.511597</td>\n",
       "      <td>0.408507</td>\n",
       "      <td>1.018207</td>\n",
       "    </tr>\n",
       "    <tr>\n",
       "      <th>min</th>\n",
       "      <td>1.000000</td>\n",
       "      <td>1.000000</td>\n",
       "      <td>0.000000</td>\n",
       "      <td>0.000000</td>\n",
       "      <td>19.000000</td>\n",
       "    </tr>\n",
       "    <tr>\n",
       "      <th>25%</th>\n",
       "      <td>2042.250000</td>\n",
       "      <td>2042.250000</td>\n",
       "      <td>0.000000</td>\n",
       "      <td>0.000000</td>\n",
       "      <td>19.700000</td>\n",
       "    </tr>\n",
       "    <tr>\n",
       "      <th>50%</th>\n",
       "      <td>4086.000000</td>\n",
       "      <td>4086.000000</td>\n",
       "      <td>0.000000</td>\n",
       "      <td>0.000000</td>\n",
       "      <td>20.400000</td>\n",
       "    </tr>\n",
       "    <tr>\n",
       "      <th>75%</th>\n",
       "      <td>6102.750000</td>\n",
       "      <td>6102.750000</td>\n",
       "      <td>252.000000</td>\n",
       "      <td>0.000000</td>\n",
       "      <td>21.400000</td>\n",
       "    </tr>\n",
       "    <tr>\n",
       "      <th>max</th>\n",
       "      <td>8143.000000</td>\n",
       "      <td>8143.000000</td>\n",
       "      <td>1546.300000</td>\n",
       "      <td>1.000000</td>\n",
       "      <td>23.200000</td>\n",
       "    </tr>\n",
       "  </tbody>\n",
       "</table>\n",
       "</div>"
      ],
      "text/plain": [
       "                 id           id2            v1            c1            v2\n",
       "count  17286.000000  17286.000000  17286.000000  17286.000000  17286.000000\n",
       "mean    4075.651047   4075.651047    119.141542      0.211674     20.617257\n",
       "std     2347.052912   2347.052912    194.511597      0.408507      1.018207\n",
       "min        1.000000      1.000000      0.000000      0.000000     19.000000\n",
       "25%     2042.250000   2042.250000      0.000000      0.000000     19.700000\n",
       "50%     4086.000000   4086.000000      0.000000      0.000000     20.400000\n",
       "75%     6102.750000   6102.750000    252.000000      0.000000     21.400000\n",
       "max     8143.000000   8143.000000   1546.300000      1.000000     23.200000"
      ]
     },
     "execution_count": 3,
     "metadata": {},
     "output_type": "execute_result"
    }
   ],
   "source": [
    "info2.describe()"
   ]
  },
  {
   "cell_type": "markdown",
   "metadata": {},
   "source": [
    "Las columnad id y id2 son iguales por lo que se puede eliminar una de las columnas\n"
   ]
  },
  {
   "cell_type": "code",
   "execution_count": 4,
   "metadata": {},
   "outputs": [
    {
     "name": "stdout",
     "output_type": "stream",
     "text": [
      "<class 'pandas.core.frame.DataFrame'>\n",
      "RangeIndex: 17286 entries, 0 to 17285\n",
      "Data columns (total 6 columns):\n",
      "id     17286 non-null int64\n",
      "id2    17286 non-null int64\n",
      "v1     17286 non-null float64\n",
      "c1     17286 non-null int64\n",
      "v2     17286 non-null float64\n",
      "v3     16286 non-null object\n",
      "dtypes: float64(2), int64(3), object(1)\n",
      "memory usage: 810.4+ KB\n"
     ]
    }
   ],
   "source": [
    "info2.info()"
   ]
  },
  {
   "cell_type": "code",
   "execution_count": 5,
   "metadata": {},
   "outputs": [
    {
     "name": "stdout",
     "output_type": "stream",
     "text": [
      "El documento info2 cuenta con valores nulos en la columna v3 que representan el  5.785028% de los datos\n"
     ]
    }
   ],
   "source": [
    "nulos = info2[info2['v3'].isnull()]\n",
    "print(\"El documento info2 cuenta con valores nulos en la columna v3 que representan el  {0:f}% de los datos\".format(len(nulos)/len(info2)*100))"
   ]
  },
  {
   "cell_type": "markdown",
   "metadata": {},
   "source": [
    "Antes de eliminar esta columna analizaré si la columna tiene una correlación importante con los datos, la columna v3 tiene datos de fechas por lo que cambiaré el formato"
   ]
  },
  {
   "cell_type": "code",
   "execution_count": 6,
   "metadata": {},
   "outputs": [],
   "source": [
    "info2['v3'] = pd.to_datetime(info2['v3'])"
   ]
  },
  {
   "cell_type": "code",
   "execution_count": 7,
   "metadata": {},
   "outputs": [
    {
     "data": {
      "text/html": [
       "<div>\n",
       "<style scoped>\n",
       "    .dataframe tbody tr th:only-of-type {\n",
       "        vertical-align: middle;\n",
       "    }\n",
       "\n",
       "    .dataframe tbody tr th {\n",
       "        vertical-align: top;\n",
       "    }\n",
       "\n",
       "    .dataframe thead th {\n",
       "        text-align: right;\n",
       "    }\n",
       "</style>\n",
       "<table border=\"1\" class=\"dataframe\">\n",
       "  <thead>\n",
       "    <tr style=\"text-align: right;\">\n",
       "      <th></th>\n",
       "      <th>id</th>\n",
       "      <th>id2</th>\n",
       "      <th>v1</th>\n",
       "      <th>c1</th>\n",
       "      <th>v2</th>\n",
       "      <th>v3</th>\n",
       "    </tr>\n",
       "  </thead>\n",
       "  <tbody>\n",
       "    <tr>\n",
       "      <th>0</th>\n",
       "      <td>1</td>\n",
       "      <td>1</td>\n",
       "      <td>426.0</td>\n",
       "      <td>1</td>\n",
       "      <td>23.2</td>\n",
       "      <td>2015-02-04 17:51:00</td>\n",
       "    </tr>\n",
       "    <tr>\n",
       "      <th>1</th>\n",
       "      <td>1</td>\n",
       "      <td>1</td>\n",
       "      <td>426.0</td>\n",
       "      <td>1</td>\n",
       "      <td>23.2</td>\n",
       "      <td>2015-02-04 17:51:00</td>\n",
       "    </tr>\n",
       "    <tr>\n",
       "      <th>2</th>\n",
       "      <td>2</td>\n",
       "      <td>2</td>\n",
       "      <td>429.5</td>\n",
       "      <td>1</td>\n",
       "      <td>23.1</td>\n",
       "      <td>2015-02-04 17:51:59</td>\n",
       "    </tr>\n",
       "    <tr>\n",
       "      <th>3</th>\n",
       "      <td>2</td>\n",
       "      <td>2</td>\n",
       "      <td>429.5</td>\n",
       "      <td>1</td>\n",
       "      <td>23.1</td>\n",
       "      <td>2015-02-04 17:51:59</td>\n",
       "    </tr>\n",
       "    <tr>\n",
       "      <th>4</th>\n",
       "      <td>3</td>\n",
       "      <td>3</td>\n",
       "      <td>426.0</td>\n",
       "      <td>1</td>\n",
       "      <td>23.1</td>\n",
       "      <td>2015-02-04 17:53:00</td>\n",
       "    </tr>\n",
       "  </tbody>\n",
       "</table>\n",
       "</div>"
      ],
      "text/plain": [
       "   id  id2     v1  c1    v2                  v3\n",
       "0   1    1  426.0   1  23.2 2015-02-04 17:51:00\n",
       "1   1    1  426.0   1  23.2 2015-02-04 17:51:00\n",
       "2   2    2  429.5   1  23.1 2015-02-04 17:51:59\n",
       "3   2    2  429.5   1  23.1 2015-02-04 17:51:59\n",
       "4   3    3  426.0   1  23.1 2015-02-04 17:53:00"
      ]
     },
     "execution_count": 7,
     "metadata": {},
     "output_type": "execute_result"
    }
   ],
   "source": [
    "info2.head()"
   ]
  },
  {
   "cell_type": "markdown",
   "metadata": {},
   "source": [
    "### Modelo de clasificación\n",
    "\n",
    "EL archivo info2 cuenta con la columna c1, la cuál entiendo que es la columna que describre la clase a la que pertenece el registro y que me premitirá entrenar un modelo."
   ]
  },
  {
   "cell_type": "code",
   "execution_count": 8,
   "metadata": {},
   "outputs": [
    {
     "data": {
      "text/html": [
       "<div>\n",
       "<style scoped>\n",
       "    .dataframe tbody tr th:only-of-type {\n",
       "        vertical-align: middle;\n",
       "    }\n",
       "\n",
       "    .dataframe tbody tr th {\n",
       "        vertical-align: top;\n",
       "    }\n",
       "\n",
       "    .dataframe thead th {\n",
       "        text-align: right;\n",
       "    }\n",
       "</style>\n",
       "<table border=\"1\" class=\"dataframe\">\n",
       "  <thead>\n",
       "    <tr style=\"text-align: right;\">\n",
       "      <th></th>\n",
       "      <th>id</th>\n",
       "      <th>v1</th>\n",
       "      <th>c1</th>\n",
       "      <th>v2</th>\n",
       "      <th>v3</th>\n",
       "    </tr>\n",
       "  </thead>\n",
       "  <tbody>\n",
       "    <tr>\n",
       "      <th>0</th>\n",
       "      <td>1</td>\n",
       "      <td>426.0</td>\n",
       "      <td>1</td>\n",
       "      <td>23.2</td>\n",
       "      <td>2015-02-04 17:51:00</td>\n",
       "    </tr>\n",
       "    <tr>\n",
       "      <th>1</th>\n",
       "      <td>1</td>\n",
       "      <td>426.0</td>\n",
       "      <td>1</td>\n",
       "      <td>23.2</td>\n",
       "      <td>2015-02-04 17:51:00</td>\n",
       "    </tr>\n",
       "    <tr>\n",
       "      <th>2</th>\n",
       "      <td>2</td>\n",
       "      <td>429.5</td>\n",
       "      <td>1</td>\n",
       "      <td>23.1</td>\n",
       "      <td>2015-02-04 17:51:59</td>\n",
       "    </tr>\n",
       "    <tr>\n",
       "      <th>3</th>\n",
       "      <td>2</td>\n",
       "      <td>429.5</td>\n",
       "      <td>1</td>\n",
       "      <td>23.1</td>\n",
       "      <td>2015-02-04 17:51:59</td>\n",
       "    </tr>\n",
       "    <tr>\n",
       "      <th>4</th>\n",
       "      <td>3</td>\n",
       "      <td>426.0</td>\n",
       "      <td>1</td>\n",
       "      <td>23.1</td>\n",
       "      <td>2015-02-04 17:53:00</td>\n",
       "    </tr>\n",
       "  </tbody>\n",
       "</table>\n",
       "</div>"
      ],
      "text/plain": [
       "   id     v1  c1    v2                  v3\n",
       "0   1  426.0   1  23.2 2015-02-04 17:51:00\n",
       "1   1  426.0   1  23.2 2015-02-04 17:51:00\n",
       "2   2  429.5   1  23.1 2015-02-04 17:51:59\n",
       "3   2  429.5   1  23.1 2015-02-04 17:51:59\n",
       "4   3  426.0   1  23.1 2015-02-04 17:53:00"
      ]
     },
     "execution_count": 8,
     "metadata": {},
     "output_type": "execute_result"
    }
   ],
   "source": [
    "clasificacion = info2.copy()\n",
    "clasificacion.drop(['id2'],axis=1,inplace = True)\n",
    "clasificacion.head()"
   ]
  },
  {
   "cell_type": "markdown",
   "metadata": {},
   "source": [
    "La columna de id sugieren que existen registros duplicados en el dataframe por lo que procederé a confirmarlo"
   ]
  },
  {
   "cell_type": "code",
   "execution_count": 9,
   "metadata": {},
   "outputs": [
    {
     "data": {
      "text/plain": [
       "0        False\n",
       "1         True\n",
       "2        False\n",
       "3         True\n",
       "4        False\n",
       "         ...  \n",
       "16281     True\n",
       "16282    False\n",
       "16283     True\n",
       "16284    False\n",
       "16285     True\n",
       "Length: 17286, dtype: bool"
      ]
     },
     "execution_count": 9,
     "metadata": {},
     "output_type": "execute_result"
    }
   ],
   "source": [
    "clasificacion = clasificacion.sort_values(by=['id'])\n",
    "clasificacion.duplicated()"
   ]
  },
  {
   "cell_type": "markdown",
   "metadata": {},
   "source": [
    "En la celda anterior se ordena por id y se verifica que los datos de las demás columnas estén duplicados. Existen registros con valor True, lo que indica que existen datos duplicados que procederé a eliminar"
   ]
  },
  {
   "cell_type": "code",
   "execution_count": 13,
   "metadata": {},
   "outputs": [],
   "source": [
    "df_limpio = clasificacion.drop_duplicates(keep='first')"
   ]
  },
  {
   "cell_type": "code",
   "execution_count": 14,
   "metadata": {},
   "outputs": [
    {
     "data": {
      "text/html": [
       "<div>\n",
       "<style scoped>\n",
       "    .dataframe tbody tr th:only-of-type {\n",
       "        vertical-align: middle;\n",
       "    }\n",
       "\n",
       "    .dataframe tbody tr th {\n",
       "        vertical-align: top;\n",
       "    }\n",
       "\n",
       "    .dataframe thead th {\n",
       "        text-align: right;\n",
       "    }\n",
       "</style>\n",
       "<table border=\"1\" class=\"dataframe\">\n",
       "  <thead>\n",
       "    <tr style=\"text-align: right;\">\n",
       "      <th></th>\n",
       "      <th>id</th>\n",
       "      <th>v1</th>\n",
       "      <th>c1</th>\n",
       "      <th>v2</th>\n",
       "    </tr>\n",
       "  </thead>\n",
       "  <tbody>\n",
       "    <tr>\n",
       "      <th>count</th>\n",
       "      <td>9143.000000</td>\n",
       "      <td>9143.000000</td>\n",
       "      <td>9143.000000</td>\n",
       "      <td>9143.000000</td>\n",
       "    </tr>\n",
       "    <tr>\n",
       "      <th>mean</th>\n",
       "      <td>4078.902767</td>\n",
       "      <td>118.805009</td>\n",
       "      <td>0.211090</td>\n",
       "      <td>20.614973</td>\n",
       "    </tr>\n",
       "    <tr>\n",
       "      <th>std</th>\n",
       "      <td>2343.811230</td>\n",
       "      <td>194.303810</td>\n",
       "      <td>0.408105</td>\n",
       "      <td>1.018919</td>\n",
       "    </tr>\n",
       "    <tr>\n",
       "      <th>min</th>\n",
       "      <td>1.000000</td>\n",
       "      <td>0.000000</td>\n",
       "      <td>0.000000</td>\n",
       "      <td>19.000000</td>\n",
       "    </tr>\n",
       "    <tr>\n",
       "      <th>25%</th>\n",
       "      <td>2047.500000</td>\n",
       "      <td>0.000000</td>\n",
       "      <td>0.000000</td>\n",
       "      <td>19.700000</td>\n",
       "    </tr>\n",
       "    <tr>\n",
       "      <th>50%</th>\n",
       "      <td>4098.000000</td>\n",
       "      <td>0.000000</td>\n",
       "      <td>0.000000</td>\n",
       "      <td>20.400000</td>\n",
       "    </tr>\n",
       "    <tr>\n",
       "      <th>75%</th>\n",
       "      <td>6097.500000</td>\n",
       "      <td>247.350000</td>\n",
       "      <td>0.000000</td>\n",
       "      <td>21.400000</td>\n",
       "    </tr>\n",
       "    <tr>\n",
       "      <th>max</th>\n",
       "      <td>8143.000000</td>\n",
       "      <td>1546.300000</td>\n",
       "      <td>1.000000</td>\n",
       "      <td>23.200000</td>\n",
       "    </tr>\n",
       "  </tbody>\n",
       "</table>\n",
       "</div>"
      ],
      "text/plain": [
       "                id           v1           c1           v2\n",
       "count  9143.000000  9143.000000  9143.000000  9143.000000\n",
       "mean   4078.902767   118.805009     0.211090    20.614973\n",
       "std    2343.811230   194.303810     0.408105     1.018919\n",
       "min       1.000000     0.000000     0.000000    19.000000\n",
       "25%    2047.500000     0.000000     0.000000    19.700000\n",
       "50%    4098.000000     0.000000     0.000000    20.400000\n",
       "75%    6097.500000   247.350000     0.000000    21.400000\n",
       "max    8143.000000  1546.300000     1.000000    23.200000"
      ]
     },
     "execution_count": 14,
     "metadata": {},
     "output_type": "execute_result"
    }
   ],
   "source": [
    "df_limpio.describe()"
   ]
  },
  {
   "cell_type": "code",
   "execution_count": 15,
   "metadata": {},
   "outputs": [
    {
     "name": "stdout",
     "output_type": "stream",
     "text": [
      "<class 'pandas.core.frame.DataFrame'>\n",
      "Int64Index: 9143 entries, 0 to 16284\n",
      "Data columns (total 5 columns):\n",
      "id    9143 non-null int64\n",
      "v1    9143 non-null float64\n",
      "c1    9143 non-null int64\n",
      "v2    9143 non-null float64\n",
      "v3    8143 non-null datetime64[ns]\n",
      "dtypes: datetime64[ns](1), float64(2), int64(2)\n",
      "memory usage: 428.6 KB\n"
     ]
    }
   ],
   "source": [
    "df_limpio.info()"
   ]
  },
  {
   "cell_type": "code",
   "execution_count": 16,
   "metadata": {},
   "outputs": [
    {
     "name": "stdout",
     "output_type": "stream",
     "text": [
      "El dataframe ahora sin duplicados cuenta con el 10.937329% de datos nulos\n"
     ]
    }
   ],
   "source": [
    "nulos = df_limpio[df_limpio['v3'].isnull()]\n",
    "print(\"El dataframe ahora sin duplicados cuenta con el {0:f}% de datos nulos\".format(len(nulos)/len(df_limpio)*100))"
   ]
  },
  {
   "cell_type": "code",
   "execution_count": 29,
   "metadata": {},
   "outputs": [
    {
     "data": {
      "text/html": [
       "<div>\n",
       "<style scoped>\n",
       "    .dataframe tbody tr th:only-of-type {\n",
       "        vertical-align: middle;\n",
       "    }\n",
       "\n",
       "    .dataframe tbody tr th {\n",
       "        vertical-align: top;\n",
       "    }\n",
       "\n",
       "    .dataframe thead th {\n",
       "        text-align: right;\n",
       "    }\n",
       "</style>\n",
       "<table border=\"1\" class=\"dataframe\">\n",
       "  <thead>\n",
       "    <tr style=\"text-align: right;\">\n",
       "      <th></th>\n",
       "      <th>id</th>\n",
       "      <th>v1</th>\n",
       "      <th>c1</th>\n",
       "      <th>v2</th>\n",
       "      <th>v3</th>\n",
       "    </tr>\n",
       "  </thead>\n",
       "  <tbody>\n",
       "    <tr>\n",
       "      <th>13</th>\n",
       "      <td>7</td>\n",
       "      <td>419.0</td>\n",
       "      <td>1</td>\n",
       "      <td>23.1</td>\n",
       "      <td>2015-02-04 17:57:00</td>\n",
       "    </tr>\n",
       "    <tr>\n",
       "      <th>16292</th>\n",
       "      <td>7</td>\n",
       "      <td>419.0</td>\n",
       "      <td>1</td>\n",
       "      <td>23.1</td>\n",
       "      <td>NaT</td>\n",
       "    </tr>\n",
       "    <tr>\n",
       "      <th>16294</th>\n",
       "      <td>9</td>\n",
       "      <td>419.0</td>\n",
       "      <td>1</td>\n",
       "      <td>23.1</td>\n",
       "      <td>NaT</td>\n",
       "    </tr>\n",
       "    <tr>\n",
       "      <th>16</th>\n",
       "      <td>9</td>\n",
       "      <td>419.0</td>\n",
       "      <td>1</td>\n",
       "      <td>23.1</td>\n",
       "      <td>2015-02-04 17:58:59</td>\n",
       "    </tr>\n",
       "    <tr>\n",
       "      <th>16297</th>\n",
       "      <td>12</td>\n",
       "      <td>419.0</td>\n",
       "      <td>1</td>\n",
       "      <td>23.1</td>\n",
       "      <td>NaT</td>\n",
       "    </tr>\n",
       "    <tr>\n",
       "      <th>...</th>\n",
       "      <td>...</td>\n",
       "      <td>...</td>\n",
       "      <td>...</td>\n",
       "      <td>...</td>\n",
       "      <td>...</td>\n",
       "    </tr>\n",
       "    <tr>\n",
       "      <th>16691</th>\n",
       "      <td>8108</td>\n",
       "      <td>412.0</td>\n",
       "      <td>1</td>\n",
       "      <td>20.6</td>\n",
       "      <td>NaT</td>\n",
       "    </tr>\n",
       "    <tr>\n",
       "      <th>16231</th>\n",
       "      <td>8116</td>\n",
       "      <td>419.0</td>\n",
       "      <td>1</td>\n",
       "      <td>20.7</td>\n",
       "      <td>2015-02-10 09:06:00</td>\n",
       "    </tr>\n",
       "    <tr>\n",
       "      <th>16327</th>\n",
       "      <td>8116</td>\n",
       "      <td>419.0</td>\n",
       "      <td>1</td>\n",
       "      <td>20.7</td>\n",
       "      <td>NaT</td>\n",
       "    </tr>\n",
       "    <tr>\n",
       "      <th>16242</th>\n",
       "      <td>8122</td>\n",
       "      <td>433.0</td>\n",
       "      <td>1</td>\n",
       "      <td>20.8</td>\n",
       "      <td>2015-02-10 09:11:59</td>\n",
       "    </tr>\n",
       "    <tr>\n",
       "      <th>17142</th>\n",
       "      <td>8122</td>\n",
       "      <td>433.0</td>\n",
       "      <td>1</td>\n",
       "      <td>20.8</td>\n",
       "      <td>NaT</td>\n",
       "    </tr>\n",
       "  </tbody>\n",
       "</table>\n",
       "<p>2000 rows × 5 columns</p>\n",
       "</div>"
      ],
      "text/plain": [
       "         id     v1  c1    v2                  v3\n",
       "13        7  419.0   1  23.1 2015-02-04 17:57:00\n",
       "16292     7  419.0   1  23.1                 NaT\n",
       "16294     9  419.0   1  23.1                 NaT\n",
       "16        9  419.0   1  23.1 2015-02-04 17:58:59\n",
       "16297    12  419.0   1  23.1                 NaT\n",
       "...     ...    ...  ..   ...                 ...\n",
       "16691  8108  412.0   1  20.6                 NaT\n",
       "16231  8116  419.0   1  20.7 2015-02-10 09:06:00\n",
       "16327  8116  419.0   1  20.7                 NaT\n",
       "16242  8122  433.0   1  20.8 2015-02-10 09:11:59\n",
       "17142  8122  433.0   1  20.8                 NaT\n",
       "\n",
       "[2000 rows x 5 columns]"
      ]
     },
     "execution_count": 29,
     "metadata": {},
     "output_type": "execute_result"
    }
   ],
   "source": [
    "df_limpio[df_limpio.id.isin(nulos.id)]"
   ]
  },
  {
   "cell_type": "markdown",
   "metadata": {},
   "source": [
    "Los datos nulos son datos repetidos pero sin el valor v3, por eso el método drop_duplicates no los consideró duplicados. Es seguro borrar los valores nulos"
   ]
  },
  {
   "cell_type": "code",
   "execution_count": 30,
   "metadata": {},
   "outputs": [
    {
     "name": "stderr",
     "output_type": "stream",
     "text": [
      "C:\\Users\\User\\AppData\\Roaming\\Python\\Python37\\site-packages\\ipykernel_launcher.py:1: SettingWithCopyWarning: \n",
      "A value is trying to be set on a copy of a slice from a DataFrame\n",
      "\n",
      "See the caveats in the documentation: http://pandas.pydata.org/pandas-docs/stable/user_guide/indexing.html#returning-a-view-versus-a-copy\n",
      "  \"\"\"Entry point for launching an IPython kernel.\n"
     ]
    }
   ],
   "source": [
    "df_limpio.dropna(inplace = True)"
   ]
  },
  {
   "cell_type": "code",
   "execution_count": 31,
   "metadata": {},
   "outputs": [
    {
     "data": {
      "text/plain": [
       "<seaborn.axisgrid.PairGrid at 0x23d555a0c18>"
      ]
     },
     "execution_count": 31,
     "metadata": {},
     "output_type": "execute_result"
    },
    {
     "data": {
      "image/png": "[encoded data removed]",
      "text/plain": [
       "<Figure size 402.375x360 with 6 Axes>"
      ]
     },
     "metadata": {
      "needs_background": "light"
     },
     "output_type": "display_data"
    }
   ],
   "source": [
    "sn.pairplot(df_limpio, vars=[\"v1\", \"v2\"], hue='c1')"
   ]
  },
  {
   "cell_type": "markdown",
   "metadata": {},
   "source": [
    "### Matriz de correlación"
   ]
  },
  {
   "cell_type": "code",
   "execution_count": 32,
   "metadata": {},
   "outputs": [
    {
     "data": {
      "text/html": [
       "<div>\n",
       "<style scoped>\n",
       "    .dataframe tbody tr th:only-of-type {\n",
       "        vertical-align: middle;\n",
       "    }\n",
       "\n",
       "    .dataframe tbody tr th {\n",
       "        vertical-align: top;\n",
       "    }\n",
       "\n",
       "    .dataframe thead th {\n",
       "        text-align: right;\n",
       "    }\n",
       "</style>\n",
       "<table border=\"1\" class=\"dataframe\">\n",
       "  <thead>\n",
       "    <tr style=\"text-align: right;\">\n",
       "      <th></th>\n",
       "      <th>id</th>\n",
       "      <th>v1</th>\n",
       "      <th>c1</th>\n",
       "      <th>v2</th>\n",
       "    </tr>\n",
       "  </thead>\n",
       "  <tbody>\n",
       "    <tr>\n",
       "      <th>id</th>\n",
       "      <td>1.000000</td>\n",
       "      <td>-0.121960</td>\n",
       "      <td>-0.098155</td>\n",
       "      <td>-0.442203</td>\n",
       "    </tr>\n",
       "    <tr>\n",
       "      <th>v1</th>\n",
       "      <td>-0.121960</td>\n",
       "      <td>1.000000</td>\n",
       "      <td>0.907352</td>\n",
       "      <td>0.649623</td>\n",
       "    </tr>\n",
       "    <tr>\n",
       "      <th>c1</th>\n",
       "      <td>-0.098155</td>\n",
       "      <td>0.907352</td>\n",
       "      <td>1.000000</td>\n",
       "      <td>0.537776</td>\n",
       "    </tr>\n",
       "    <tr>\n",
       "      <th>v2</th>\n",
       "      <td>-0.442203</td>\n",
       "      <td>0.649623</td>\n",
       "      <td>0.537776</td>\n",
       "      <td>1.000000</td>\n",
       "    </tr>\n",
       "  </tbody>\n",
       "</table>\n",
       "</div>"
      ],
      "text/plain": [
       "          id        v1        c1        v2\n",
       "id  1.000000 -0.121960 -0.098155 -0.442203\n",
       "v1 -0.121960  1.000000  0.907352  0.649623\n",
       "c1 -0.098155  0.907352  1.000000  0.537776\n",
       "v2 -0.442203  0.649623  0.537776  1.000000"
      ]
     },
     "execution_count": 32,
     "metadata": {},
     "output_type": "execute_result"
    }
   ],
   "source": [
    "df_limpio.corr()"
   ]
  },
  {
   "cell_type": "code",
   "execution_count": 34,
   "metadata": {},
   "outputs": [
    {
     "data": {
      "image/png": "[encoded data removed]",
      "text/plain": [
       "<Figure size 432x288 with 1 Axes>"
      ]
     },
     "metadata": {
      "needs_background": "light"
     },
     "output_type": "display_data"
    }
   ],
   "source": [
    "#plt.plot(df_limpio['v3'],df_limpio['v1'])\n",
    "plt.plot(df_limpio['v3'],df_limpio['v2'])\n",
    "plt.show()"
   ]
  },
  {
   "cell_type": "markdown",
   "metadata": {},
   "source": [
    "## Relación entre el tiempo y los datos"
   ]
  },
  {
   "cell_type": "code",
   "execution_count": 35,
   "metadata": {},
   "outputs": [],
   "source": [
    "info = df_limpio.copy()\n",
    "info.index = info['v3']"
   ]
  },
  {
   "cell_type": "code",
   "execution_count": 36,
   "metadata": {},
   "outputs": [
    {
     "data": {
      "image/png": "[encoded data removed]",
      "text/plain": [
       "<Figure size 432x288 with 4 Axes>"
      ]
     },
     "metadata": {
      "needs_background": "light"
     },
     "output_type": "display_data"
    }
   ],
   "source": [
    "import statsmodels.api as sm\n",
    "res=sm.tsa.seasonal_decompose(info['v2'],freq=365)\n",
    "resplot=res.plot()"
   ]
  },
  {
   "cell_type": "code",
   "execution_count": 37,
   "metadata": {},
   "outputs": [
    {
     "data": {
      "image/png": "[encoded data removed]",
      "text/plain": [
       "<Figure size 432x288 with 4 Axes>"
      ]
     },
     "metadata": {
      "needs_background": "light"
     },
     "output_type": "display_data"
    }
   ],
   "source": [
    "res_2=sm.tsa.seasonal_decompose(info['v1'],freq=365)\n",
    "resplot_2=res_2.plot()"
   ]
  },
  {
   "cell_type": "markdown",
   "metadata": {},
   "source": [
    "Existen fluctuaciones periodicas en las series de tiempo, por lo que se puede afirmar que el tiempo es importante para el analisis de datos, por ello se incluirán en el modelo de clasificación."
   ]
  },
  {
   "cell_type": "markdown",
   "metadata": {},
   "source": [
    "## Modelos de clasificación"
   ]
  },
  {
   "cell_type": "code",
   "execution_count": 38,
   "metadata": {},
   "outputs": [],
   "source": [
    "info.drop(['id','v3'],axis=1,inplace=True)"
   ]
  },
  {
   "cell_type": "code",
   "execution_count": 39,
   "metadata": {},
   "outputs": [
    {
     "data": {
      "text/html": [
       "<div>\n",
       "<style scoped>\n",
       "    .dataframe tbody tr th:only-of-type {\n",
       "        vertical-align: middle;\n",
       "    }\n",
       "\n",
       "    .dataframe tbody tr th {\n",
       "        vertical-align: top;\n",
       "    }\n",
       "\n",
       "    .dataframe thead th {\n",
       "        text-align: right;\n",
       "    }\n",
       "</style>\n",
       "<table border=\"1\" class=\"dataframe\">\n",
       "  <thead>\n",
       "    <tr style=\"text-align: right;\">\n",
       "      <th></th>\n",
       "      <th>v3</th>\n",
       "      <th>v1</th>\n",
       "      <th>c1</th>\n",
       "      <th>v2</th>\n",
       "    </tr>\n",
       "  </thead>\n",
       "  <tbody>\n",
       "    <tr>\n",
       "      <th>0</th>\n",
       "      <td>2015-02-04 17:51:00</td>\n",
       "      <td>426.0</td>\n",
       "      <td>1</td>\n",
       "      <td>23.2</td>\n",
       "    </tr>\n",
       "    <tr>\n",
       "      <th>1</th>\n",
       "      <td>2015-02-04 17:51:59</td>\n",
       "      <td>429.5</td>\n",
       "      <td>1</td>\n",
       "      <td>23.1</td>\n",
       "    </tr>\n",
       "    <tr>\n",
       "      <th>2</th>\n",
       "      <td>2015-02-04 17:53:00</td>\n",
       "      <td>426.0</td>\n",
       "      <td>1</td>\n",
       "      <td>23.1</td>\n",
       "    </tr>\n",
       "    <tr>\n",
       "      <th>3</th>\n",
       "      <td>2015-02-04 17:54:00</td>\n",
       "      <td>426.0</td>\n",
       "      <td>1</td>\n",
       "      <td>23.1</td>\n",
       "    </tr>\n",
       "    <tr>\n",
       "      <th>4</th>\n",
       "      <td>2015-02-04 17:55:00</td>\n",
       "      <td>426.0</td>\n",
       "      <td>1</td>\n",
       "      <td>23.1</td>\n",
       "    </tr>\n",
       "    <tr>\n",
       "      <th>...</th>\n",
       "      <td>...</td>\n",
       "      <td>...</td>\n",
       "      <td>...</td>\n",
       "      <td>...</td>\n",
       "    </tr>\n",
       "    <tr>\n",
       "      <th>8138</th>\n",
       "      <td>2015-02-10 09:29:00</td>\n",
       "      <td>433.0</td>\n",
       "      <td>1</td>\n",
       "      <td>21.1</td>\n",
       "    </tr>\n",
       "    <tr>\n",
       "      <th>8139</th>\n",
       "      <td>2015-02-10 09:29:59</td>\n",
       "      <td>433.0</td>\n",
       "      <td>1</td>\n",
       "      <td>21.1</td>\n",
       "    </tr>\n",
       "    <tr>\n",
       "      <th>8140</th>\n",
       "      <td>2015-02-10 09:30:59</td>\n",
       "      <td>433.0</td>\n",
       "      <td>1</td>\n",
       "      <td>21.1</td>\n",
       "    </tr>\n",
       "    <tr>\n",
       "      <th>8141</th>\n",
       "      <td>2015-02-10 09:32:00</td>\n",
       "      <td>433.0</td>\n",
       "      <td>1</td>\n",
       "      <td>21.1</td>\n",
       "    </tr>\n",
       "    <tr>\n",
       "      <th>8142</th>\n",
       "      <td>2015-02-10 09:33:00</td>\n",
       "      <td>447.0</td>\n",
       "      <td>1</td>\n",
       "      <td>21.1</td>\n",
       "    </tr>\n",
       "  </tbody>\n",
       "</table>\n",
       "<p>8143 rows × 4 columns</p>\n",
       "</div>"
      ],
      "text/plain": [
       "                      v3     v1  c1    v2\n",
       "0    2015-02-04 17:51:00  426.0   1  23.2\n",
       "1    2015-02-04 17:51:59  429.5   1  23.1\n",
       "2    2015-02-04 17:53:00  426.0   1  23.1\n",
       "3    2015-02-04 17:54:00  426.0   1  23.1\n",
       "4    2015-02-04 17:55:00  426.0   1  23.1\n",
       "...                  ...    ...  ..   ...\n",
       "8138 2015-02-10 09:29:00  433.0   1  21.1\n",
       "8139 2015-02-10 09:29:59  433.0   1  21.1\n",
       "8140 2015-02-10 09:30:59  433.0   1  21.1\n",
       "8141 2015-02-10 09:32:00  433.0   1  21.1\n",
       "8142 2015-02-10 09:33:00  447.0   1  21.1\n",
       "\n",
       "[8143 rows x 4 columns]"
      ]
     },
     "execution_count": 39,
     "metadata": {},
     "output_type": "execute_result"
    }
   ],
   "source": [
    "info.reset_index()"
   ]
  },
  {
   "cell_type": "code",
   "execution_count": 40,
   "metadata": {},
   "outputs": [],
   "source": [
    "X = info.drop('c1',axis=1)\n",
    "y = info['c1']\n",
    "X_train, X_test, y_train, y_test = train_test_split(X,y,test_size=0.2,random_state=42)"
   ]
  },
  {
   "cell_type": "markdown",
   "metadata": {},
   "source": [
    "### Logistic Regression"
   ]
  },
  {
   "cell_type": "code",
   "execution_count": 41,
   "metadata": {},
   "outputs": [],
   "source": [
    "lg_model = LogisticRegression()"
   ]
  },
  {
   "cell_type": "code",
   "execution_count": 42,
   "metadata": {},
   "outputs": [
    {
     "data": {
      "text/plain": [
       "LogisticRegression(C=1.0, class_weight=None, dual=False, fit_intercept=True,\n",
       "                   intercept_scaling=1, l1_ratio=None, max_iter=100,\n",
       "                   multi_class='auto', n_jobs=None, penalty='l2',\n",
       "                   random_state=None, solver='lbfgs', tol=0.0001, verbose=0,\n",
       "                   warm_start=False)"
      ]
     },
     "execution_count": 42,
     "metadata": {},
     "output_type": "execute_result"
    }
   ],
   "source": [
    "lg_model.fit(X_train, y_train)"
   ]
  },
  {
   "cell_type": "code",
   "execution_count": 43,
   "metadata": {},
   "outputs": [],
   "source": [
    "y_train_pred = lg_model.predict(X_train)"
   ]
  },
  {
   "cell_type": "code",
   "execution_count": 44,
   "metadata": {},
   "outputs": [
    {
     "data": {
      "text/plain": [
       "array([[5056,   72],\n",
       "       [   6, 1380]], dtype=int64)"
      ]
     },
     "execution_count": 44,
     "metadata": {},
     "output_type": "execute_result"
    }
   ],
   "source": [
    "train_matrix = confusion_matrix(y_train,y_train_pred)\n",
    "train_matrix"
   ]
  },
  {
   "cell_type": "code",
   "execution_count": 45,
   "metadata": {},
   "outputs": [],
   "source": [
    "y_test_pred = lg_model.predict(X_test)"
   ]
  },
  {
   "cell_type": "code",
   "execution_count": 46,
   "metadata": {},
   "outputs": [
    {
     "data": {
      "text/plain": [
       "array([[1267,   19],\n",
       "       [   1,  342]], dtype=int64)"
      ]
     },
     "execution_count": 46,
     "metadata": {},
     "output_type": "execute_result"
    }
   ],
   "source": [
    "test_matrix = confusion_matrix(y_test,y_test_pred)\n",
    "test_matrix"
   ]
  },
  {
   "cell_type": "code",
   "execution_count": 47,
   "metadata": {},
   "outputs": [
    {
     "name": "stdout",
     "output_type": "stream",
     "text": [
      "Las matrices de confusión muestran que el 1.197421% están mal clasificados en las predicciones del train y 1.227747% en test\n"
     ]
    }
   ],
   "source": [
    "print('Las matrices de confusión muestran que el {0:f}% están mal clasificados en las predicciones del train y {1:f}% en test'.format((train_matrix[0][1]+train_matrix[1][0]) / len(y_train) *100,(test_matrix[0][1]+test_matrix[1][0]) / len(y_test) *100))"
   ]
  },
  {
   "cell_type": "code",
   "execution_count": 48,
   "metadata": {},
   "outputs": [
    {
     "name": "stdout",
     "output_type": "stream",
     "text": [
      "Valor R^2: (0.9285123352986068, 0.9261388625656883)\n"
     ]
    }
   ],
   "source": [
    "train_score = r2_score(y_train,y_train_pred)\n",
    "test_score = r2_score(y_test,y_test_pred)\n",
    "print(f'Valor R^2: {train_score, test_score}')"
   ]
  },
  {
   "cell_type": "markdown",
   "metadata": {},
   "source": [
    "Junto con los datos arrojados en las matrices de confusión y el score entre los datos predictivos del entrenamiento y el test, que son similares y mayores a 0.9 se puede determinar que tiene un buen ajuste."
   ]
  },
  {
   "cell_type": "code",
   "execution_count": 49,
   "metadata": {},
   "outputs": [
    {
     "data": {
      "text/plain": [
       "0.9905882592983872"
      ]
     },
     "execution_count": 49,
     "metadata": {},
     "output_type": "execute_result"
    }
   ],
   "source": [
    "y_pred_prob = lg_model.predict_proba(X_test)[::,1]\n",
    "fpr,tpr,_ = roc_curve(y_test,y_pred_prob)\n",
    "roc_auc_score(y_test,y_pred_prob)"
   ]
  },
  {
   "cell_type": "markdown",
   "metadata": {},
   "source": [
    "### Random Forest"
   ]
  },
  {
   "cell_type": "code",
   "execution_count": 50,
   "metadata": {},
   "outputs": [],
   "source": [
    "rf = RandomForestClassifier()"
   ]
  },
  {
   "cell_type": "code",
   "execution_count": 51,
   "metadata": {},
   "outputs": [
    {
     "data": {
      "text/plain": [
       "RandomForestClassifier(bootstrap=True, ccp_alpha=0.0, class_weight=None,\n",
       "                       criterion='gini', max_depth=None, max_features='auto',\n",
       "                       max_leaf_nodes=None, max_samples=None,\n",
       "                       min_impurity_decrease=0.0, min_impurity_split=None,\n",
       "                       min_samples_leaf=1, min_samples_split=2,\n",
       "                       min_weight_fraction_leaf=0.0, n_estimators=100,\n",
       "                       n_jobs=None, oob_score=False, random_state=None,\n",
       "                       verbose=0, warm_start=False)"
      ]
     },
     "execution_count": 51,
     "metadata": {},
     "output_type": "execute_result"
    }
   ],
   "source": [
    "rf.fit(X_train,y_train)"
   ]
  },
  {
   "cell_type": "code",
   "execution_count": 52,
   "metadata": {},
   "outputs": [],
   "source": [
    "rf_train_pred = rf.predict(X_train)\n",
    "rf_test_pred = rf.predict(X_test)"
   ]
  },
  {
   "cell_type": "code",
   "execution_count": 53,
   "metadata": {},
   "outputs": [
    {
     "name": "stdout",
     "output_type": "stream",
     "text": [
      "[[5116   12]\n",
      " [   3 1383]]\n",
      "[[1276   10]\n",
      " [   4  339]]\n"
     ]
    }
   ],
   "source": [
    "rf_train_matrix = confusion_matrix(y_train,rf_train_pred)\n",
    "rf_test_matrix = confusion_matrix(y_test,rf_test_pred)\n",
    "\n",
    "print(rf_train_matrix)\n",
    "print(rf_test_matrix)"
   ]
  },
  {
   "cell_type": "code",
   "execution_count": 54,
   "metadata": {},
   "outputs": [
    {
     "name": "stdout",
     "output_type": "stream",
     "text": [
      "Las matrices de confusión muestran que el 0.230273% están mal clasificados en las predicciones del train y 0.859423% en test\n"
     ]
    }
   ],
   "source": [
    "print('Las matrices de confusión muestran que el {0:f}% están mal clasificados en las predicciones del train y {1:f}% en test'.format((rf_train_matrix[0][1]+rf_train_matrix[1][0]) / len(y_train) *100,(rf_test_matrix[0][1]+rf_test_matrix[1][0]) / len(y_test) *100))"
   ]
  },
  {
   "cell_type": "code",
   "execution_count": 55,
   "metadata": {},
   "outputs": [
    {
     "name": "stdout",
     "output_type": "stream",
     "text": [
      "Valor R^2: (0.986252372172809, 0.9482972037959818)\n"
     ]
    }
   ],
   "source": [
    "rf_train_score = r2_score(y_train,rf_train_pred)\n",
    "rf_test_score = r2_score(y_test,rf_test_pred)\n",
    "print(f'Valor R^2: {rf_train_score, rf_test_score}')"
   ]
  },
  {
   "cell_type": "code",
   "execution_count": 56,
   "metadata": {},
   "outputs": [
    {
     "data": {
      "text/plain": [
       "0.9980831923971544"
      ]
     },
     "execution_count": 56,
     "metadata": {},
     "output_type": "execute_result"
    }
   ],
   "source": [
    "rf_pred_prob = rf.predict_proba(X_test)[::,1]\n",
    "roc_auc_score(y_test,rf_pred_prob)"
   ]
  },
  {
   "cell_type": "markdown",
   "metadata": {},
   "source": [
    "El modelo Random Forest muestra mejores resultados comparados con el modelo Logistic Regression, se logró reducir el número de registros mal clasificados (se puede ver en las matrices de confusión)\n",
    "\n",
    "El área bajo la curva es más cercano a 1 en este modelo, lo cuál es un buen indicador sobre el ajuste del modelo.\n"
   ]
  },
  {
   "cell_type": "markdown",
   "metadata": {},
   "source": [
    "## Gaussian Naive Bayes"
   ]
  },
  {
   "cell_type": "code",
   "execution_count": 57,
   "metadata": {},
   "outputs": [],
   "source": [
    "gnb = GaussianNB()"
   ]
  },
  {
   "cell_type": "code",
   "execution_count": 58,
   "metadata": {},
   "outputs": [
    {
     "data": {
      "text/plain": [
       "GaussianNB(priors=None, var_smoothing=1e-09)"
      ]
     },
     "execution_count": 58,
     "metadata": {},
     "output_type": "execute_result"
    }
   ],
   "source": [
    "gnb.fit(X_train, y_train)"
   ]
  },
  {
   "cell_type": "code",
   "execution_count": 59,
   "metadata": {},
   "outputs": [],
   "source": [
    "gnb_train_pred = gnb.predict(X_train)\n",
    "gnb_test_pred = gnb.predict(X_test)"
   ]
  },
  {
   "cell_type": "code",
   "execution_count": 60,
   "metadata": {},
   "outputs": [
    {
     "name": "stdout",
     "output_type": "stream",
     "text": [
      "[[4954  174]\n",
      " [   5 1381]]\n",
      "[[1246   40]\n",
      " [   0  343]]\n"
     ]
    }
   ],
   "source": [
    "gnb_train_matrix = confusion_matrix(y_train,gnb_train_pred)\n",
    "gnb_test_matrix = confusion_matrix(y_test,gnb_test_pred)\n",
    "\n",
    "print(gnb_train_matrix)\n",
    "print(gnb_test_matrix)"
   ]
  },
  {
   "cell_type": "code",
   "execution_count": 61,
   "metadata": {},
   "outputs": [
    {
     "name": "stdout",
     "output_type": "stream",
     "text": [
      "Las matrices de confusión muestran que el 2.747928% están mal clasificados en las predicciones del train y 2.455494% en test\n"
     ]
    }
   ],
   "source": [
    "print('Las matrices de confusión muestran que el {0:f}% están mal clasificados en las predicciones del train y {1:f}% en test'.format((gnb_train_matrix[0][1]+gnb_train_matrix[1][0]) / len(y_train) *100,(gnb_test_matrix[0][1]+gnb_test_matrix[1][0]) / len(y_test) *100))"
   ]
  },
  {
   "cell_type": "code",
   "execution_count": 62,
   "metadata": {},
   "outputs": [
    {
     "name": "stdout",
     "output_type": "stream",
     "text": [
      "Valor R^2: (0.8359449745955205, 0.8522777251313767)\n"
     ]
    }
   ],
   "source": [
    "gnb_train_score = r2_score(y_train,gnb_train_pred)\n",
    "gnb_test_score = r2_score(y_test,gnb_test_pred)\n",
    "print(f'Valor R^2: {gnb_train_score, gnb_test_score}')"
   ]
  },
  {
   "cell_type": "code",
   "execution_count": 63,
   "metadata": {},
   "outputs": [
    {
     "data": {
      "text/plain": [
       "0.9900600320110271"
      ]
     },
     "execution_count": 63,
     "metadata": {},
     "output_type": "execute_result"
    }
   ],
   "source": [
    "gnb_pred_prob = gnb.predict_proba(X_test)[::,1]\n",
    "roc_auc_score(y_test,gnb_pred_prob)"
   ]
  },
  {
   "cell_type": "markdown",
   "metadata": {},
   "source": [
    "El modelo Gaussian Naive Bayes no funciona muy bien en este dataset, se muestra mayor porcentaje de datos mal clasificados y los scores r-squared y el área bajo la curva son menores."
   ]
  },
  {
   "cell_type": "markdown",
   "metadata": {},
   "source": [
    "## KNeighbors"
   ]
  },
  {
   "cell_type": "code",
   "execution_count": 64,
   "metadata": {},
   "outputs": [],
   "source": [
    "kn = KNeighborsClassifier(n_neighbors=50)"
   ]
  },
  {
   "cell_type": "code",
   "execution_count": 65,
   "metadata": {},
   "outputs": [
    {
     "data": {
      "text/plain": [
       "KNeighborsClassifier(algorithm='auto', leaf_size=30, metric='minkowski',\n",
       "                     metric_params=None, n_jobs=None, n_neighbors=50, p=2,\n",
       "                     weights='uniform')"
      ]
     },
     "execution_count": 65,
     "metadata": {},
     "output_type": "execute_result"
    }
   ],
   "source": [
    "kn.fit(X_train,y_train)"
   ]
  },
  {
   "cell_type": "code",
   "execution_count": 66,
   "metadata": {},
   "outputs": [],
   "source": [
    "kn_train_pred = kn.predict(X_train)\n",
    "kn_test_pred = kn.predict(X_test)"
   ]
  },
  {
   "cell_type": "code",
   "execution_count": 67,
   "metadata": {},
   "outputs": [
    {
     "name": "stdout",
     "output_type": "stream",
     "text": [
      "[[5057   71]\n",
      " [   9 1377]]\n",
      "[[1267   19]\n",
      " [   2  341]]\n"
     ]
    }
   ],
   "source": [
    "kn_train_matrix = confusion_matrix(y_train,kn_train_pred)\n",
    "kn_test_matrix = confusion_matrix(y_test,kn_test_pred)\n",
    "\n",
    "print(kn_train_matrix)\n",
    "print(kn_test_matrix)"
   ]
  },
  {
   "cell_type": "code",
   "execution_count": 68,
   "metadata": {},
   "outputs": [
    {
     "name": "stdout",
     "output_type": "stream",
     "text": [
      "Valor R^2: (0.9266793182549813, 0.9224458056939727)\n"
     ]
    }
   ],
   "source": [
    "kn_train_score = r2_score(y_train,kn_train_pred)\n",
    "kn_test_score = r2_score(y_test,kn_test_pred)\n",
    "print(f'Valor R^2: {kn_train_score, kn_test_score}')"
   ]
  },
  {
   "cell_type": "code",
   "execution_count": 81,
   "metadata": {},
   "outputs": [
    {
     "data": {
      "text/plain": [
       "0.9959158735700456"
      ]
     },
     "execution_count": 81,
     "metadata": {},
     "output_type": "execute_result"
    }
   ],
   "source": [
    "kn_pred_prob = kn.predict_proba(X_test)[::,1]\n",
    "roc_auc_score(y_test,kn_pred_prob)"
   ]
  },
  {
   "cell_type": "markdown",
   "metadata": {},
   "source": [
    "## SVM"
   ]
  },
  {
   "cell_type": "code",
   "execution_count": 69,
   "metadata": {},
   "outputs": [
    {
     "data": {
      "text/plain": [
       "SVC(C=1.0, break_ties=False, cache_size=200, class_weight=None, coef0=0.0,\n",
       "    decision_function_shape='ovr', degree=3, gamma='scale', kernel='rbf',\n",
       "    max_iter=-1, probability=False, random_state=None, shrinking=True,\n",
       "    tol=0.001, verbose=False)"
      ]
     },
     "execution_count": 69,
     "metadata": {},
     "output_type": "execute_result"
    }
   ],
   "source": [
    "svc = svm.SVC()\n",
    "svc.fit(X_train,y_train)"
   ]
  },
  {
   "cell_type": "code",
   "execution_count": 70,
   "metadata": {},
   "outputs": [],
   "source": [
    "svc_train_pred = svc.predict(X_train)\n",
    "svc_test_pred = svc.predict(X_test)"
   ]
  },
  {
   "cell_type": "code",
   "execution_count": 71,
   "metadata": {},
   "outputs": [
    {
     "name": "stdout",
     "output_type": "stream",
     "text": [
      "[[5059   69]\n",
      " [   9 1377]]\n",
      "[[1267   19]\n",
      " [   1  342]]\n"
     ]
    }
   ],
   "source": [
    "svc_train_matrix = confusion_matrix(y_train,svc_train_pred)\n",
    "svc_test_matrix = confusion_matrix(y_test,svc_test_pred)\n",
    "\n",
    "print(svc_train_matrix)\n",
    "print(svc_test_matrix)"
   ]
  },
  {
   "cell_type": "code",
   "execution_count": 72,
   "metadata": {},
   "outputs": [
    {
     "name": "stdout",
     "output_type": "stream",
     "text": [
      "Valor R^2: (0.9285123352986068, 0.9261388625656883)\n"
     ]
    }
   ],
   "source": [
    "svc_train_score = r2_score(y_train,svc_train_pred)\n",
    "svc_test_score = r2_score(y_test,svc_test_pred)\n",
    "print(f'Valor R^2: {svc_train_score, svc_test_score}')"
   ]
  },
  {
   "cell_type": "markdown",
   "metadata": {},
   "source": [
    "### Linear SVC"
   ]
  },
  {
   "cell_type": "code",
   "execution_count": 74,
   "metadata": {},
   "outputs": [
    {
     "name": "stderr",
     "output_type": "stream",
     "text": [
      "C:\\Users\\User\\AppData\\Roaming\\Python\\Python37\\site-packages\\sklearn\\svm\\_base.py:947: ConvergenceWarning: Liblinear failed to converge, increase the number of iterations.\n",
      "  \"the number of iterations.\", ConvergenceWarning)\n"
     ]
    },
    {
     "data": {
      "text/plain": [
       "LinearSVC(C=1.0, class_weight=None, dual=True, fit_intercept=True,\n",
       "          intercept_scaling=1, loss='squared_hinge', max_iter=1000,\n",
       "          multi_class='ovr', penalty='l2', random_state=None, tol=0.0001,\n",
       "          verbose=0)"
      ]
     },
     "execution_count": 74,
     "metadata": {},
     "output_type": "execute_result"
    }
   ],
   "source": [
    "lin_clf = svm.LinearSVC()\n",
    "lin_clf.fit(X_train,y_train)"
   ]
  },
  {
   "cell_type": "code",
   "execution_count": 75,
   "metadata": {},
   "outputs": [],
   "source": [
    "clf_train_pred = lin_clf.predict(X_train)\n",
    "clf_test_pred = lin_clf.predict(X_test)"
   ]
  },
  {
   "cell_type": "code",
   "execution_count": 76,
   "metadata": {},
   "outputs": [
    {
     "name": "stdout",
     "output_type": "stream",
     "text": [
      "[[4896  232]\n",
      " [   3 1383]]\n",
      "[[1238   48]\n",
      " [   0  343]]\n"
     ]
    }
   ],
   "source": [
    "clf_train_matrix = confusion_matrix(y_train,clf_train_pred)\n",
    "clf_test_matrix = confusion_matrix(y_test,clf_test_pred)\n",
    "\n",
    "print(clf_train_matrix)\n",
    "print(clf_test_matrix)"
   ]
  },
  {
   "cell_type": "code",
   "execution_count": 77,
   "metadata": {},
   "outputs": [
    {
     "name": "stdout",
     "output_type": "stream",
     "text": [
      "Valor R^2: (0.7846204973740074, 0.822733270157652)\n"
     ]
    }
   ],
   "source": [
    "clf_train_score = r2_score(y_train,clf_train_pred)\n",
    "clf_test_score = r2_score(y_test,clf_test_pred)\n",
    "print(f'Valor R^2: {clf_train_score, clf_test_score}')"
   ]
  },
  {
   "cell_type": "markdown",
   "metadata": {},
   "source": [
    "# Resultados\n",
    "\n",
    "Despues de probar varios modelos encuentro satisfactorios los resultados de Random Forest Classifier, por lo que guardaré el modelo entrenado en un archivo para su consulta posterior"
   ]
  },
  {
   "cell_type": "code",
   "execution_count": 84,
   "metadata": {},
   "outputs": [
    {
     "data": {
      "text/plain": [
       "['RandomForest.joblib']"
      ]
     },
     "execution_count": 84,
     "metadata": {},
     "output_type": "execute_result"
    }
   ],
   "source": [
    "dump(rf, 'RandomForest.joblib')"
   ]
  },
  {
   "cell_type": "code",
   "execution_count": 85,
   "metadata": {},
   "outputs": [
    {
     "data": {
      "image/png": "[encoded data removed]",
      "text/plain": [
       "<Figure size 720x720 with 4 Axes>"
      ]
     },
     "metadata": {
      "needs_background": "light"
     },
     "output_type": "display_data"
    }
   ],
   "source": [
    "fig, axs = plt.subplots(2,2,figsize=(10, 10))\n",
    "sn.scatterplot(x = 'v1',y='v2',hue = rf_test_pred, data = X_test, ax=axs[0][0])\n",
    "sn.scatterplot(x = 'v1',y='v2',hue = y_test, data = X_test,ax=axs[0][1])\n",
    "sn.scatterplot(x = 'v1',y='v2',hue = rf_train_pred, data = X_train, ax=axs[1][0])\n",
    "sn.scatterplot(x = 'v1',y='v2',hue = y_train, data = X_train,ax=axs[1][1])\n",
    "axs[0,0].set_title('Test Random Forest')\n",
    "axs[0,1].set_title('Test Clasificación real')\n",
    "axs[1,0].set_title('Train Random Forest')\n",
    "axs[1,1].set_title('Train Clasificación real')\n",
    "plt.show()\n",
    "fig.savefig('Resultados.png')"
   ]
  },
  {
   "cell_type": "code",
   "execution_count": null,
   "metadata": {},
   "outputs": [],
   "source": []
  },
  {
   "cell_type": "code",
   "execution_count": null,
   "metadata": {},
   "outputs": [],
   "source": []
  }
 ],
 "metadata": {
  "kernelspec": {
   "display_name": "Python 3",
   "language": "python",
   "name": "python3"
  },
  "language_info": {
   "codemirror_mode": {
    "name": "ipython",
    "version": 3
   },
   "file_extension": ".py",
   "mimetype": "text/x-python",
   "name": "python",
   "nbconvert_exporter": "python",
   "pygments_lexer": "ipython3",
   "version": "3.7.0"
  }
 },
 "nbformat": 4,
 "nbformat_minor": 2
}
