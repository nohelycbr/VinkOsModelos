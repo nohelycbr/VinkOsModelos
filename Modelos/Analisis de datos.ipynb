{
 "cells": [
  {
   "cell_type": "markdown",
   "metadata": {},
   "source": [
    "## Análisis de los archivos\n",
    "\n",
    "### Bibliotecas"
   ]
  },
  {
   "cell_type": "code",
   "execution_count": 1,
   "metadata": {},
   "outputs": [],
   "source": [
    "import pandas as pd\n",
    "import numpy as np\n",
    "import matplotlib.pyplot as plt\n",
    "import seaborn as sn"
   ]
  },
  {
   "cell_type": "code",
   "execution_count": 2,
   "metadata": {},
   "outputs": [],
   "source": [
    "info1 = pd.read_csv('../data/info_01.csv')\n",
    "info2 = pd.read_csv('../data/info_02.csv')"
   ]
  },
  {
   "cell_type": "code",
   "execution_count": 3,
   "metadata": {},
   "outputs": [
    {
     "data": {
      "text/html": [
       "<div>\n",
       "<style scoped>\n",
       "    .dataframe tbody tr th:only-of-type {\n",
       "        vertical-align: middle;\n",
       "    }\n",
       "\n",
       "    .dataframe tbody tr th {\n",
       "        vertical-align: top;\n",
       "    }\n",
       "\n",
       "    .dataframe thead th {\n",
       "        text-align: right;\n",
       "    }\n",
       "</style>\n",
       "<table border=\"1\" class=\"dataframe\">\n",
       "  <thead>\n",
       "    <tr style=\"text-align: right;\">\n",
       "      <th></th>\n",
       "      <th>id</th>\n",
       "      <th>id2</th>\n",
       "      <th>v4</th>\n",
       "      <th>v5</th>\n",
       "      <th>v6</th>\n",
       "    </tr>\n",
       "  </thead>\n",
       "  <tbody>\n",
       "    <tr>\n",
       "      <th>count</th>\n",
       "      <td>17286.000000</td>\n",
       "      <td>17286.000000</td>\n",
       "      <td>17286.000000</td>\n",
       "      <td>17286.000000</td>\n",
       "      <td>17286.000000</td>\n",
       "    </tr>\n",
       "    <tr>\n",
       "      <th>mean</th>\n",
       "      <td>4075.651047</td>\n",
       "      <td>4075.651047</td>\n",
       "      <td>606.032176</td>\n",
       "      <td>25.730504</td>\n",
       "      <td>0.003862</td>\n",
       "    </tr>\n",
       "    <tr>\n",
       "      <th>std</th>\n",
       "      <td>2347.052912</td>\n",
       "      <td>2347.052912</td>\n",
       "      <td>313.824105</td>\n",
       "      <td>5.527639</td>\n",
       "      <td>0.000851</td>\n",
       "    </tr>\n",
       "    <tr>\n",
       "      <th>min</th>\n",
       "      <td>1.000000</td>\n",
       "      <td>1.000000</td>\n",
       "      <td>412.800000</td>\n",
       "      <td>16.700000</td>\n",
       "      <td>0.002674</td>\n",
       "    </tr>\n",
       "    <tr>\n",
       "      <th>25%</th>\n",
       "      <td>2042.250000</td>\n",
       "      <td>2042.250000</td>\n",
       "      <td>439.000000</td>\n",
       "      <td>20.200000</td>\n",
       "      <td>0.003080</td>\n",
       "    </tr>\n",
       "    <tr>\n",
       "      <th>50%</th>\n",
       "      <td>4086.000000</td>\n",
       "      <td>4086.000000</td>\n",
       "      <td>453.500000</td>\n",
       "      <td>26.200000</td>\n",
       "      <td>0.003800</td>\n",
       "    </tr>\n",
       "    <tr>\n",
       "      <th>75%</th>\n",
       "      <td>6102.750000</td>\n",
       "      <td>6102.750000</td>\n",
       "      <td>637.500000</td>\n",
       "      <td>30.500000</td>\n",
       "      <td>0.004351</td>\n",
       "    </tr>\n",
       "    <tr>\n",
       "      <th>max</th>\n",
       "      <td>8143.000000</td>\n",
       "      <td>8143.000000</td>\n",
       "      <td>2028.500000</td>\n",
       "      <td>39.100000</td>\n",
       "      <td>0.006476</td>\n",
       "    </tr>\n",
       "  </tbody>\n",
       "</table>\n",
       "</div>"
      ],
      "text/plain": [
       "                 id           id2            v4            v5            v6\n",
       "count  17286.000000  17286.000000  17286.000000  17286.000000  17286.000000\n",
       "mean    4075.651047   4075.651047    606.032176     25.730504      0.003862\n",
       "std     2347.052912   2347.052912    313.824105      5.527639      0.000851\n",
       "min        1.000000      1.000000    412.800000     16.700000      0.002674\n",
       "25%     2042.250000   2042.250000    439.000000     20.200000      0.003080\n",
       "50%     4086.000000   4086.000000    453.500000     26.200000      0.003800\n",
       "75%     6102.750000   6102.750000    637.500000     30.500000      0.004351\n",
       "max     8143.000000   8143.000000   2028.500000     39.100000      0.006476"
      ]
     },
     "execution_count": 3,
     "metadata": {},
     "output_type": "execute_result"
    }
   ],
   "source": [
    "info1.describe()"
   ]
  },
  {
   "cell_type": "markdown",
   "metadata": {},
   "source": [
    "En los resultados de las columnas id y id2 se puede ver que los datos son iguales por lo que se puede eliminar una de las columnas."
   ]
  },
  {
   "cell_type": "code",
   "execution_count": 4,
   "metadata": {},
   "outputs": [
    {
     "data": {
      "text/html": [
       "<div>\n",
       "<style scoped>\n",
       "    .dataframe tbody tr th:only-of-type {\n",
       "        vertical-align: middle;\n",
       "    }\n",
       "\n",
       "    .dataframe tbody tr th {\n",
       "        vertical-align: top;\n",
       "    }\n",
       "\n",
       "    .dataframe thead th {\n",
       "        text-align: right;\n",
       "    }\n",
       "</style>\n",
       "<table border=\"1\" class=\"dataframe\">\n",
       "  <thead>\n",
       "    <tr style=\"text-align: right;\">\n",
       "      <th></th>\n",
       "      <th>id</th>\n",
       "      <th>id2</th>\n",
       "      <th>v1</th>\n",
       "      <th>c1</th>\n",
       "      <th>v2</th>\n",
       "    </tr>\n",
       "  </thead>\n",
       "  <tbody>\n",
       "    <tr>\n",
       "      <th>count</th>\n",
       "      <td>17286.000000</td>\n",
       "      <td>17286.000000</td>\n",
       "      <td>17286.000000</td>\n",
       "      <td>17286.000000</td>\n",
       "      <td>17286.000000</td>\n",
       "    </tr>\n",
       "    <tr>\n",
       "      <th>mean</th>\n",
       "      <td>4075.651047</td>\n",
       "      <td>4075.651047</td>\n",
       "      <td>119.141542</td>\n",
       "      <td>0.211674</td>\n",
       "      <td>20.617257</td>\n",
       "    </tr>\n",
       "    <tr>\n",
       "      <th>std</th>\n",
       "      <td>2347.052912</td>\n",
       "      <td>2347.052912</td>\n",
       "      <td>194.511597</td>\n",
       "      <td>0.408507</td>\n",
       "      <td>1.018207</td>\n",
       "    </tr>\n",
       "    <tr>\n",
       "      <th>min</th>\n",
       "      <td>1.000000</td>\n",
       "      <td>1.000000</td>\n",
       "      <td>0.000000</td>\n",
       "      <td>0.000000</td>\n",
       "      <td>19.000000</td>\n",
       "    </tr>\n",
       "    <tr>\n",
       "      <th>25%</th>\n",
       "      <td>2042.250000</td>\n",
       "      <td>2042.250000</td>\n",
       "      <td>0.000000</td>\n",
       "      <td>0.000000</td>\n",
       "      <td>19.700000</td>\n",
       "    </tr>\n",
       "    <tr>\n",
       "      <th>50%</th>\n",
       "      <td>4086.000000</td>\n",
       "      <td>4086.000000</td>\n",
       "      <td>0.000000</td>\n",
       "      <td>0.000000</td>\n",
       "      <td>20.400000</td>\n",
       "    </tr>\n",
       "    <tr>\n",
       "      <th>75%</th>\n",
       "      <td>6102.750000</td>\n",
       "      <td>6102.750000</td>\n",
       "      <td>252.000000</td>\n",
       "      <td>0.000000</td>\n",
       "      <td>21.400000</td>\n",
       "    </tr>\n",
       "    <tr>\n",
       "      <th>max</th>\n",
       "      <td>8143.000000</td>\n",
       "      <td>8143.000000</td>\n",
       "      <td>1546.300000</td>\n",
       "      <td>1.000000</td>\n",
       "      <td>23.200000</td>\n",
       "    </tr>\n",
       "  </tbody>\n",
       "</table>\n",
       "</div>"
      ],
      "text/plain": [
       "                 id           id2            v1            c1            v2\n",
       "count  17286.000000  17286.000000  17286.000000  17286.000000  17286.000000\n",
       "mean    4075.651047   4075.651047    119.141542      0.211674     20.617257\n",
       "std     2347.052912   2347.052912    194.511597      0.408507      1.018207\n",
       "min        1.000000      1.000000      0.000000      0.000000     19.000000\n",
       "25%     2042.250000   2042.250000      0.000000      0.000000     19.700000\n",
       "50%     4086.000000   4086.000000      0.000000      0.000000     20.400000\n",
       "75%     6102.750000   6102.750000    252.000000      0.000000     21.400000\n",
       "max     8143.000000   8143.000000   1546.300000      1.000000     23.200000"
      ]
     },
     "execution_count": 4,
     "metadata": {},
     "output_type": "execute_result"
    }
   ],
   "source": [
    "info2.describe()"
   ]
  },
  {
   "cell_type": "markdown",
   "metadata": {},
   "source": [
    "Sucede lo mismo en este archivo, id y id2 son iguales por lo que se puede eliminar una de las columnas\n"
   ]
  },
  {
   "cell_type": "code",
   "execution_count": 5,
   "metadata": {},
   "outputs": [
    {
     "name": "stdout",
     "output_type": "stream",
     "text": [
      "<class 'pandas.core.frame.DataFrame'>\n",
      "RangeIndex: 17286 entries, 0 to 17285\n",
      "Data columns (total 5 columns):\n",
      "id     17286 non-null int64\n",
      "id2    17286 non-null int64\n",
      "v4     17286 non-null float64\n",
      "v5     17286 non-null float64\n",
      "v6     17286 non-null float64\n",
      "dtypes: float64(3), int64(2)\n",
      "memory usage: 675.4 KB\n"
     ]
    }
   ],
   "source": [
    "info1.info()"
   ]
  },
  {
   "cell_type": "markdown",
   "metadata": {},
   "source": [
    "El documento info1 no contiene datos nulos"
   ]
  },
  {
   "cell_type": "code",
   "execution_count": 6,
   "metadata": {},
   "outputs": [
    {
     "name": "stdout",
     "output_type": "stream",
     "text": [
      "<class 'pandas.core.frame.DataFrame'>\n",
      "RangeIndex: 17286 entries, 0 to 17285\n",
      "Data columns (total 6 columns):\n",
      "id     17286 non-null int64\n",
      "id2    17286 non-null int64\n",
      "v1     17286 non-null float64\n",
      "c1     17286 non-null int64\n",
      "v2     17286 non-null float64\n",
      "v3     16286 non-null object\n",
      "dtypes: float64(2), int64(3), object(1)\n",
      "memory usage: 810.4+ KB\n"
     ]
    }
   ],
   "source": [
    "info2.info()"
   ]
  },
  {
   "cell_type": "code",
   "execution_count": 7,
   "metadata": {},
   "outputs": [
    {
     "name": "stdout",
     "output_type": "stream",
     "text": [
      "El documento info2 cuenta con valores nulos en la columna v3 que representan el  5.785028% de los datos\n"
     ]
    }
   ],
   "source": [
    "nulos = info2[info2['v3'].isnull()]\n",
    "print(\"El documento info2 cuenta con valores nulos en la columna v3 que representan el  {0:f}% de los datos\".format(len(nulos)/len(info2)*100))"
   ]
  },
  {
   "cell_type": "markdown",
   "metadata": {},
   "source": [
    "Antes de eliminar esta columna analizaré si la columna tiene una correlación importante con los datos, la columna v3 tiene datos de fechas por lo que cambiaré el formato"
   ]
  },
  {
   "cell_type": "code",
   "execution_count": 8,
   "metadata": {},
   "outputs": [],
   "source": [
    "info2['v3'] = pd.to_datetime(info2['v3'])"
   ]
  },
  {
   "cell_type": "code",
   "execution_count": 9,
   "metadata": {},
   "outputs": [
    {
     "data": {
      "text/html": [
       "<div>\n",
       "<style scoped>\n",
       "    .dataframe tbody tr th:only-of-type {\n",
       "        vertical-align: middle;\n",
       "    }\n",
       "\n",
       "    .dataframe tbody tr th {\n",
       "        vertical-align: top;\n",
       "    }\n",
       "\n",
       "    .dataframe thead th {\n",
       "        text-align: right;\n",
       "    }\n",
       "</style>\n",
       "<table border=\"1\" class=\"dataframe\">\n",
       "  <thead>\n",
       "    <tr style=\"text-align: right;\">\n",
       "      <th></th>\n",
       "      <th>id</th>\n",
       "      <th>id2</th>\n",
       "      <th>v1</th>\n",
       "      <th>c1</th>\n",
       "      <th>v2</th>\n",
       "      <th>v3</th>\n",
       "    </tr>\n",
       "  </thead>\n",
       "  <tbody>\n",
       "    <tr>\n",
       "      <th>0</th>\n",
       "      <td>1</td>\n",
       "      <td>1</td>\n",
       "      <td>426.0</td>\n",
       "      <td>1</td>\n",
       "      <td>23.2</td>\n",
       "      <td>2015-02-04 17:51:00</td>\n",
       "    </tr>\n",
       "    <tr>\n",
       "      <th>1</th>\n",
       "      <td>1</td>\n",
       "      <td>1</td>\n",
       "      <td>426.0</td>\n",
       "      <td>1</td>\n",
       "      <td>23.2</td>\n",
       "      <td>2015-02-04 17:51:00</td>\n",
       "    </tr>\n",
       "    <tr>\n",
       "      <th>2</th>\n",
       "      <td>2</td>\n",
       "      <td>2</td>\n",
       "      <td>429.5</td>\n",
       "      <td>1</td>\n",
       "      <td>23.1</td>\n",
       "      <td>2015-02-04 17:51:59</td>\n",
       "    </tr>\n",
       "    <tr>\n",
       "      <th>3</th>\n",
       "      <td>2</td>\n",
       "      <td>2</td>\n",
       "      <td>429.5</td>\n",
       "      <td>1</td>\n",
       "      <td>23.1</td>\n",
       "      <td>2015-02-04 17:51:59</td>\n",
       "    </tr>\n",
       "    <tr>\n",
       "      <th>4</th>\n",
       "      <td>3</td>\n",
       "      <td>3</td>\n",
       "      <td>426.0</td>\n",
       "      <td>1</td>\n",
       "      <td>23.1</td>\n",
       "      <td>2015-02-04 17:53:00</td>\n",
       "    </tr>\n",
       "  </tbody>\n",
       "</table>\n",
       "</div>"
      ],
      "text/plain": [
       "   id  id2     v1  c1    v2                  v3\n",
       "0   1    1  426.0   1  23.2 2015-02-04 17:51:00\n",
       "1   1    1  426.0   1  23.2 2015-02-04 17:51:00\n",
       "2   2    2  429.5   1  23.1 2015-02-04 17:51:59\n",
       "3   2    2  429.5   1  23.1 2015-02-04 17:51:59\n",
       "4   3    3  426.0   1  23.1 2015-02-04 17:53:00"
      ]
     },
     "execution_count": 9,
     "metadata": {},
     "output_type": "execute_result"
    }
   ],
   "source": [
    "info2.head()"
   ]
  },
  {
   "cell_type": "markdown",
   "metadata": {},
   "source": [
    "### Modelo de clasificación\n",
    "\n",
    "EL archivo info2 cuenta con la columna c1, la cuál entiendo que es la columna que describre la clase a la que pertenece el registro y que me premitirá entrenar un modelo."
   ]
  },
  {
   "cell_type": "code",
   "execution_count": 11,
   "metadata": {},
   "outputs": [
    {
     "data": {
      "text/html": [
       "<div>\n",
       "<style scoped>\n",
       "    .dataframe tbody tr th:only-of-type {\n",
       "        vertical-align: middle;\n",
       "    }\n",
       "\n",
       "    .dataframe tbody tr th {\n",
       "        vertical-align: top;\n",
       "    }\n",
       "\n",
       "    .dataframe thead th {\n",
       "        text-align: right;\n",
       "    }\n",
       "</style>\n",
       "<table border=\"1\" class=\"dataframe\">\n",
       "  <thead>\n",
       "    <tr style=\"text-align: right;\">\n",
       "      <th></th>\n",
       "      <th>id</th>\n",
       "      <th>v1</th>\n",
       "      <th>c1</th>\n",
       "      <th>v2</th>\n",
       "      <th>v3</th>\n",
       "    </tr>\n",
       "  </thead>\n",
       "  <tbody>\n",
       "    <tr>\n",
       "      <th>0</th>\n",
       "      <td>1</td>\n",
       "      <td>426.0</td>\n",
       "      <td>1</td>\n",
       "      <td>23.2</td>\n",
       "      <td>2015-02-04 17:51:00</td>\n",
       "    </tr>\n",
       "    <tr>\n",
       "      <th>1</th>\n",
       "      <td>1</td>\n",
       "      <td>426.0</td>\n",
       "      <td>1</td>\n",
       "      <td>23.2</td>\n",
       "      <td>2015-02-04 17:51:00</td>\n",
       "    </tr>\n",
       "    <tr>\n",
       "      <th>2</th>\n",
       "      <td>2</td>\n",
       "      <td>429.5</td>\n",
       "      <td>1</td>\n",
       "      <td>23.1</td>\n",
       "      <td>2015-02-04 17:51:59</td>\n",
       "    </tr>\n",
       "    <tr>\n",
       "      <th>3</th>\n",
       "      <td>2</td>\n",
       "      <td>429.5</td>\n",
       "      <td>1</td>\n",
       "      <td>23.1</td>\n",
       "      <td>2015-02-04 17:51:59</td>\n",
       "    </tr>\n",
       "    <tr>\n",
       "      <th>4</th>\n",
       "      <td>3</td>\n",
       "      <td>426.0</td>\n",
       "      <td>1</td>\n",
       "      <td>23.1</td>\n",
       "      <td>2015-02-04 17:53:00</td>\n",
       "    </tr>\n",
       "  </tbody>\n",
       "</table>\n",
       "</div>"
      ],
      "text/plain": [
       "   id     v1  c1    v2                  v3\n",
       "0   1  426.0   1  23.2 2015-02-04 17:51:00\n",
       "1   1  426.0   1  23.2 2015-02-04 17:51:00\n",
       "2   2  429.5   1  23.1 2015-02-04 17:51:59\n",
       "3   2  429.5   1  23.1 2015-02-04 17:51:59\n",
       "4   3  426.0   1  23.1 2015-02-04 17:53:00"
      ]
     },
     "execution_count": 11,
     "metadata": {},
     "output_type": "execute_result"
    }
   ],
   "source": [
    "clasificacion = info2.copy()\n",
    "clasificacion.drop(['id2'],axis=1,inplace = True)\n",
    "clasificacion.head()"
   ]
  },
  {
   "cell_type": "markdown",
   "metadata": {},
   "source": [
    "La columna de id sugieren que existen registros duplicados en el dataframe por lo que procederé a confirmarlo"
   ]
  },
  {
   "cell_type": "code",
   "execution_count": 12,
   "metadata": {},
   "outputs": [
    {
     "data": {
      "text/plain": [
       "0        False\n",
       "1         True\n",
       "2        False\n",
       "3         True\n",
       "4        False\n",
       "         ...  \n",
       "16281     True\n",
       "16282    False\n",
       "16283     True\n",
       "16284    False\n",
       "16285     True\n",
       "Length: 17286, dtype: bool"
      ]
     },
     "execution_count": 12,
     "metadata": {},
     "output_type": "execute_result"
    }
   ],
   "source": [
    "clasificacion = clasificacion.sort_values(by=['id'])\n",
    "clasificacion.duplicated(clasificacion.columns[~clasificacion.columns.isin(['id'])])"
   ]
  },
  {
   "cell_type": "markdown",
   "metadata": {},
   "source": [
    "En la celda anterior se ordena por id y se verifica que los datos de las demás columnas estén duplicados. Existen registros con valor True, lo que indica que existen datos duplicados que procederé a eliminar"
   ]
  },
  {
   "cell_type": "code",
   "execution_count": 13,
   "metadata": {},
   "outputs": [],
   "source": [
    "df_limpio = clasificacion.drop_duplicates(clasificacion.columns[~clasificacion.columns.isin(['id'])],keep='first')"
   ]
  },
  {
   "cell_type": "code",
   "execution_count": 14,
   "metadata": {},
   "outputs": [
    {
     "data": {
      "text/html": [
       "<div>\n",
       "<style scoped>\n",
       "    .dataframe tbody tr th:only-of-type {\n",
       "        vertical-align: middle;\n",
       "    }\n",
       "\n",
       "    .dataframe tbody tr th {\n",
       "        vertical-align: top;\n",
       "    }\n",
       "\n",
       "    .dataframe thead th {\n",
       "        text-align: right;\n",
       "    }\n",
       "</style>\n",
       "<table border=\"1\" class=\"dataframe\">\n",
       "  <thead>\n",
       "    <tr style=\"text-align: right;\">\n",
       "      <th></th>\n",
       "      <th>id</th>\n",
       "      <th>v1</th>\n",
       "      <th>c1</th>\n",
       "      <th>v2</th>\n",
       "    </tr>\n",
       "  </thead>\n",
       "  <tbody>\n",
       "    <tr>\n",
       "      <th>count</th>\n",
       "      <td>8472.000000</td>\n",
       "      <td>8472.000000</td>\n",
       "      <td>8472.000000</td>\n",
       "      <td>8472.000000</td>\n",
       "    </tr>\n",
       "    <tr>\n",
       "      <th>mean</th>\n",
       "      <td>4060.695940</td>\n",
       "      <td>125.646565</td>\n",
       "      <td>0.222262</td>\n",
       "      <td>20.644618</td>\n",
       "    </tr>\n",
       "    <tr>\n",
       "      <th>std</th>\n",
       "      <td>2344.245545</td>\n",
       "      <td>197.650137</td>\n",
       "      <td>0.415791</td>\n",
       "      <td>1.027205</td>\n",
       "    </tr>\n",
       "    <tr>\n",
       "      <th>min</th>\n",
       "      <td>1.000000</td>\n",
       "      <td>0.000000</td>\n",
       "      <td>0.000000</td>\n",
       "      <td>19.000000</td>\n",
       "    </tr>\n",
       "    <tr>\n",
       "      <th>25%</th>\n",
       "      <td>2040.750000</td>\n",
       "      <td>0.000000</td>\n",
       "      <td>0.000000</td>\n",
       "      <td>19.700000</td>\n",
       "    </tr>\n",
       "    <tr>\n",
       "      <th>50%</th>\n",
       "      <td>4055.500000</td>\n",
       "      <td>0.000000</td>\n",
       "      <td>0.000000</td>\n",
       "      <td>20.500000</td>\n",
       "    </tr>\n",
       "    <tr>\n",
       "      <th>75%</th>\n",
       "      <td>6081.250000</td>\n",
       "      <td>307.900000</td>\n",
       "      <td>0.000000</td>\n",
       "      <td>21.400000</td>\n",
       "    </tr>\n",
       "    <tr>\n",
       "      <th>max</th>\n",
       "      <td>8143.000000</td>\n",
       "      <td>1546.300000</td>\n",
       "      <td>1.000000</td>\n",
       "      <td>23.200000</td>\n",
       "    </tr>\n",
       "  </tbody>\n",
       "</table>\n",
       "</div>"
      ],
      "text/plain": [
       "                id           v1           c1           v2\n",
       "count  8472.000000  8472.000000  8472.000000  8472.000000\n",
       "mean   4060.695940   125.646565     0.222262    20.644618\n",
       "std    2344.245545   197.650137     0.415791     1.027205\n",
       "min       1.000000     0.000000     0.000000    19.000000\n",
       "25%    2040.750000     0.000000     0.000000    19.700000\n",
       "50%    4055.500000     0.000000     0.000000    20.500000\n",
       "75%    6081.250000   307.900000     0.000000    21.400000\n",
       "max    8143.000000  1546.300000     1.000000    23.200000"
      ]
     },
     "execution_count": 14,
     "metadata": {},
     "output_type": "execute_result"
    }
   ],
   "source": [
    "df_limpio.describe()"
   ]
  },
  {
   "cell_type": "code",
   "execution_count": 15,
   "metadata": {},
   "outputs": [
    {
     "name": "stdout",
     "output_type": "stream",
     "text": [
      "<class 'pandas.core.frame.DataFrame'>\n",
      "Int64Index: 8472 entries, 0 to 16284\n",
      "Data columns (total 5 columns):\n",
      "id    8472 non-null int64\n",
      "v1    8472 non-null float64\n",
      "c1    8472 non-null int64\n",
      "v2    8472 non-null float64\n",
      "v3    8143 non-null datetime64[ns]\n",
      "dtypes: datetime64[ns](1), float64(2), int64(2)\n",
      "memory usage: 397.1 KB\n"
     ]
    }
   ],
   "source": [
    "df_limpio.info()"
   ]
  },
  {
   "cell_type": "code",
   "execution_count": 16,
   "metadata": {},
   "outputs": [
    {
     "name": "stdout",
     "output_type": "stream",
     "text": [
      "El dataframe ahora sin duplicados cuenta con el 3.883381% de datos nulos\n"
     ]
    }
   ],
   "source": [
    "nulos = df_limpio[df_limpio['v3'].isnull()]\n",
    "print(\"El dataframe ahora sin duplicados cuenta con el {0:f}% de datos nulos\".format(len(nulos)/len(df_limpio)*100))"
   ]
  },
  {
   "cell_type": "markdown",
   "metadata": {},
   "source": [
    "El porcentaje de dato que son nulos es bajo por lo que decido eliminarlos."
   ]
  },
  {
   "cell_type": "code",
   "execution_count": 17,
   "metadata": {},
   "outputs": [
    {
     "name": "stderr",
     "output_type": "stream",
     "text": [
      "C:\\Users\\User\\AppData\\Roaming\\Python\\Python37\\site-packages\\ipykernel_launcher.py:1: SettingWithCopyWarning: \n",
      "A value is trying to be set on a copy of a slice from a DataFrame\n",
      "\n",
      "See the caveats in the documentation: http://pandas.pydata.org/pandas-docs/stable/user_guide/indexing.html#returning-a-view-versus-a-copy\n",
      "  \"\"\"Entry point for launching an IPython kernel.\n"
     ]
    }
   ],
   "source": [
    "df_limpio.dropna(inplace = True)"
   ]
  },
  {
   "cell_type": "code",
   "execution_count": 23,
   "metadata": {},
   "outputs": [
    {
     "data": {
      "text/plain": [
       "<seaborn.axisgrid.PairGrid at 0x134981a7a90>"
      ]
     },
     "execution_count": 23,
     "metadata": {},
     "output_type": "execute_result"
    },
    {
     "data": {
      "image/png": "[encoded data removed]",
      "text/plain": [
       "<Figure size 402.375x360 with 6 Axes>"
      ]
     },
     "metadata": {
      "needs_background": "light"
     },
     "output_type": "display_data"
    }
   ],
   "source": [
    "sn.pairplot(df_limpio, vars=[\"v1\", \"v2\"], hue='c1')"
   ]
  },
  {
   "cell_type": "markdown",
   "metadata": {},
   "source": [
    "### Matriz de correlación"
   ]
  },
  {
   "cell_type": "code",
   "execution_count": 24,
   "metadata": {},
   "outputs": [
    {
     "data": {
      "text/html": [
       "<div>\n",
       "<style scoped>\n",
       "    .dataframe tbody tr th:only-of-type {\n",
       "        vertical-align: middle;\n",
       "    }\n",
       "\n",
       "    .dataframe tbody tr th {\n",
       "        vertical-align: top;\n",
       "    }\n",
       "\n",
       "    .dataframe thead th {\n",
       "        text-align: right;\n",
       "    }\n",
       "</style>\n",
       "<table border=\"1\" class=\"dataframe\">\n",
       "  <thead>\n",
       "    <tr style=\"text-align: right;\">\n",
       "      <th></th>\n",
       "      <th>id</th>\n",
       "      <th>v1</th>\n",
       "      <th>c1</th>\n",
       "      <th>v2</th>\n",
       "    </tr>\n",
       "  </thead>\n",
       "  <tbody>\n",
       "    <tr>\n",
       "      <th>id</th>\n",
       "      <td>1.000000</td>\n",
       "      <td>-0.121960</td>\n",
       "      <td>-0.098155</td>\n",
       "      <td>-0.442203</td>\n",
       "    </tr>\n",
       "    <tr>\n",
       "      <th>v1</th>\n",
       "      <td>-0.121960</td>\n",
       "      <td>1.000000</td>\n",
       "      <td>0.907352</td>\n",
       "      <td>0.649623</td>\n",
       "    </tr>\n",
       "    <tr>\n",
       "      <th>c1</th>\n",
       "      <td>-0.098155</td>\n",
       "      <td>0.907352</td>\n",
       "      <td>1.000000</td>\n",
       "      <td>0.537776</td>\n",
       "    </tr>\n",
       "    <tr>\n",
       "      <th>v2</th>\n",
       "      <td>-0.442203</td>\n",
       "      <td>0.649623</td>\n",
       "      <td>0.537776</td>\n",
       "      <td>1.000000</td>\n",
       "    </tr>\n",
       "  </tbody>\n",
       "</table>\n",
       "</div>"
      ],
      "text/plain": [
       "          id        v1        c1        v2\n",
       "id  1.000000 -0.121960 -0.098155 -0.442203\n",
       "v1 -0.121960  1.000000  0.907352  0.649623\n",
       "c1 -0.098155  0.907352  1.000000  0.537776\n",
       "v2 -0.442203  0.649623  0.537776  1.000000"
      ]
     },
     "execution_count": 24,
     "metadata": {},
     "output_type": "execute_result"
    }
   ],
   "source": [
    "df_limpio.corr()"
   ]
  },
  {
   "cell_type": "code",
   "execution_count": null,
   "metadata": {},
   "outputs": [],
   "source": []
  },
  {
   "cell_type": "code",
   "execution_count": null,
   "metadata": {},
   "outputs": [],
   "source": []
  }
 ],
 "metadata": {
  "kernelspec": {
   "display_name": "Python 3",
   "language": "python",
   "name": "python3"
  },
  "language_info": {
   "codemirror_mode": {
    "name": "ipython",
    "version": 3
   },
   "file_extension": ".py",
   "mimetype": "text/x-python",
   "name": "python",
   "nbconvert_exporter": "python",
   "pygments_lexer": "ipython3",
   "version": "3.7.0"
  }
 },
 "nbformat": 4,
 "nbformat_minor": 2
}
